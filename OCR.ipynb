{
 "cells": [
  {
   "cell_type": "code",
   "execution_count": 1,
   "id": "f4ab1616",
   "metadata": {},
   "outputs": [],
   "source": [
    "import cv2\n",
    "import pytesseract\n",
    "import pathlib\n",
    "from pathlib import Path\n",
    "from pytesseract import Output\n",
    "from pdf2image import convert_from_path"
   ]
  },
  {
   "cell_type": "markdown",
   "id": "8d53b3a7",
   "metadata": {},
   "source": [
    "#### To install tesseract in Windows, here a good reference: https://www.youtube.com/watch?v=HNCypVfeTdw"
   ]
  },
  {
   "cell_type": "markdown",
   "id": "e9fb0b36",
   "metadata": {},
   "source": [
    "## First step: Convert the pdf file into image"
   ]
  },
  {
   "cell_type": "code",
   "execution_count": 3,
   "id": "70989220",
   "metadata": {},
   "outputs": [],
   "source": [
    "def pdf_to_image(pdf_path, output_folder: str = \".\"):\n",
    "    \"\"\"\n",
    "    Convert the pdf file into an image.\n",
    "    \n",
    "    Args:\n",
    "        - pdf_path : \n",
    "        - output_folder : \n",
    "\n",
    "    \"\"\"\n",
    "    # Create the output folder if it doesn't exist\n",
    "    if not Path(output_folder).exists():\n",
    "        Path(output_folder).mkdir()\n",
    "\n",
    "    pages = convert_from_path(pdf_path, output_folder=output_folder, poppler_path=r'C:\\Program Files\\Release-24.08.0-0\\poppler-24.08.0\\Library\\bin', fmt=\"png\")\n",
    "    \n",
    "    return pages\n"
   ]
  },
  {
   "cell_type": "code",
   "execution_count": 4,
   "id": "562c61d1",
   "metadata": {},
   "outputs": [
    {
     "data": {
      "text/plain": [
       "[<PIL.PngImagePlugin.PngImageFile image mode=RGB size=1700x2200>]"
      ]
     },
     "execution_count": 4,
     "metadata": {},
     "output_type": "execute_result"
    }
   ],
   "source": [
    "pdf_path = \"./data/camel.pdf\"\n",
    "\n",
    "pdf_to_image(pdf_path, output_folder=\"data\")\n"
   ]
  },
  {
   "cell_type": "markdown",
   "id": "d5aa6300",
   "metadata": {},
   "source": [
    "#### An image is added in the \"data\" folder."
   ]
  },
  {
   "cell_type": "code",
   "execution_count": 6,
   "id": "5db0ab67",
   "metadata": {},
   "outputs": [],
   "source": [
    "scanned_img = \"data/ced4c354-856c-435e-93d8-36064ccabc6a-1.png\""
   ]
  },
  {
   "cell_type": "markdown",
   "id": "b432cca6",
   "metadata": {},
   "source": [
    "## Second step : Extract text from image"
   ]
  },
  {
   "cell_type": "code",
   "execution_count": 7,
   "id": "ed6a6a7a",
   "metadata": {},
   "outputs": [],
   "source": [
    "def image_to_text(input_path):\n",
    "   \"\"\"\n",
    "   Read text from images.\n",
    "\n",
    "   Args:\n",
    "      - input_path : \n",
    "   \"\"\"\n",
    "   img = cv2.imread(input_path)\n",
    "   text = pytesseract.image_to_string(img)\n",
    "\n",
    "   return text"
   ]
  },
  {
   "cell_type": "code",
   "execution_count": 8,
   "id": "eff775d7",
   "metadata": {},
   "outputs": [
    {
     "name": "stdout",
     "output_type": "stream",
     "text": [
      "CAMEL: Communicative Agents for “Mind”\n",
      "Exploration of Large Language Model Society\n",
      "\n",
      "https: //www.camel-ai.org\n",
      "\n",
      "Guohao Li* Hasan Abed Al Kader Hammoud* = HaniItani’ — Dmitrii Khizbullin\n",
      "\n",
      "Bernard Ghanem\n",
      "\n",
      "King Abdullah University of Science and Technology (KAUST)\n",
      "\n",
      "Abstract\n",
      "\n",
      "The rapid advancement of chat-based language models has led to remarkable\n",
      "progress in complex task-solving. However, their success heavily relies on human\n",
      "input to guide the conversation, which can be challenging and time-consuming.\n",
      "This paper explores the potential of building scalable techniques to facilitate au-\n",
      "tonomous co\n"
     ]
    }
   ],
   "source": [
    "print(image_to_text(scanned_img)[:600])"
   ]
  },
  {
   "cell_type": "markdown",
   "id": "4727f355",
   "metadata": {},
   "source": [
    "### To convert the image into an interactive pdf"
   ]
  },
  {
   "cell_type": "code",
   "execution_count": 9,
   "id": "ebcdf82e",
   "metadata": {},
   "outputs": [],
   "source": [
    "def image_to_interactif_pdf(input_path):\n",
    "    raw_pdf = pytesseract.image_to_pdf_or_hocr(input_path)\n",
    "    with open(\"data/camel_interactive.pdf\", \"w+b\") as f:\n",
    "        f.write(bytearray(raw_pdf))\n",
    "    "
   ]
  },
  {
   "cell_type": "code",
   "execution_count": 10,
   "id": "fe5a5f5d",
   "metadata": {},
   "outputs": [],
   "source": [
    "image_to_interactif_pdf(scanned_img)"
   ]
  },
  {
   "cell_type": "code",
   "execution_count": null,
   "id": "d01daebe",
   "metadata": {},
   "outputs": [],
   "source": [
    "# Extract recognized data from easy text\n",
    "data = pytesseract.image_to_data(scanned_img, output_type=Output.DICT)"
   ]
  },
  {
   "cell_type": "code",
   "execution_count": 14,
   "id": "a065553c",
   "metadata": {},
   "outputs": [
    {
     "data": {
      "text/plain": [
       "516"
      ]
     },
     "execution_count": 14,
     "metadata": {},
     "output_type": "execute_result"
    }
   ],
   "source": [
    "len(data[\"text\"])"
   ]
  },
  {
   "cell_type": "code",
   "execution_count": 15,
   "id": "074f0d85",
   "metadata": {},
   "outputs": [],
   "source": [
    "def draw_bounding_boxes(input_img_path, output_path):\n",
    "   img = cv2.imread(input_img_path)\n",
    "\n",
    "   # Extract data\n",
    "   data = pytesseract.image_to_data(img, output_type=Output.DICT)\n",
    "   n_boxes = len(data[\"text\"])\n",
    "\n",
    "   for i in range(n_boxes):\n",
    "       if data[\"conf\"][i] == -1:\n",
    "           continue\n",
    "       # Coordinates\n",
    "       x, y = data[\"left\"][i], data[\"top\"][i]\n",
    "       w, h = data[\"width\"][i], data[\"height\"][i]\n",
    "\n",
    "       # Corners\n",
    "       top_left = (x, y)\n",
    "       bottom_right = (x + w, y + h)\n",
    "\n",
    "       # Box params\n",
    "       green = (0, 255, 0)\n",
    "       thickness = 1  # The function-version uses thinner lines\n",
    "\n",
    "       cv2.rectangle(img, top_left, bottom_right, green, thickness)\n",
    "\n",
    "   # Save the image with boxes\n",
    "   cv2.imwrite(output_path, img)\n"
   ]
  },
  {
   "cell_type": "code",
   "execution_count": 17,
   "id": "7ecebc76",
   "metadata": {},
   "outputs": [],
   "source": [
    "output_path = \"data/caac3ece-5a4a-4585-88c4-71e814801ced-1_with_boxes.png\"\n",
    "draw_bounding_boxes(scanned_img, output_path)"
   ]
  },
  {
   "cell_type": "code",
   "execution_count": null,
   "id": "4e55dde7",
   "metadata": {},
   "outputs": [],
   "source": [
    "raw_pdf = pytesseract.image_to_pdf_or_hocr(scanned_img)\n",
    "\n",
    "with open(\"camel_img.pdf\", \"w+b\") as f:\n",
    "   f.write(bytearray(raw_pdf))\n"
   ]
  }
 ],
 "metadata": {
  "kernelspec": {
   "display_name": "base",
   "language": "python",
   "name": "python3"
  },
  "language_info": {
   "codemirror_mode": {
    "name": "ipython",
    "version": 3
   },
   "file_extension": ".py",
   "mimetype": "text/x-python",
   "name": "python",
   "nbconvert_exporter": "python",
   "pygments_lexer": "ipython3",
   "version": "3.11.5"
  }
 },
 "nbformat": 4,
 "nbformat_minor": 5
}
